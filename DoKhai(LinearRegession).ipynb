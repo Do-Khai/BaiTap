{
  "nbformat": 4,
  "nbformat_minor": 0,
  "metadata": {
    "colab": {
      "name": "DoKhai(LinearRegession).ipynb",
      "provenance": [],
      "collapsed_sections": [],
      "authorship_tag": "ABX9TyMFynyTdP2LuNM82Unqjobx",
      "include_colab_link": true
    },
    "kernelspec": {
      "name": "python3",
      "display_name": "Python 3"
    },
    "language_info": {
      "name": "python"
    }
  },
  "cells": [
    {
      "cell_type": "markdown",
      "metadata": {
        "id": "view-in-github",
        "colab_type": "text"
      },
      "source": [
        "<a href=\"https://colab.research.google.com/github/Do-Khai/BaiTap/blob/main/DoKhai(LinearRegession).ipynb\" target=\"_parent\"><img src=\"https://colab.research.google.com/assets/colab-badge.svg\" alt=\"Open In Colab\"/></a>"
      ]
    },
    {
      "cell_type": "markdown",
      "source": [
        "#Bài 1"
      ],
      "metadata": {
        "id": "u83JC7n0_bdb"
      }
    },
    {
      "cell_type": "code",
      "source": [
        "import numpy as np\n",
        "import pandas as pd\n",
        "import matplotlib.pyplot as plt\n",
        "from sklearn.linear_model import LinearRegression"
      ],
      "metadata": {
        "id": "oSdFjS7w_ZhI"
      },
      "execution_count": 12,
      "outputs": []
    },
    {
      "cell_type": "code",
      "source": [
        "print('a) MSE =',end = ' ')\n",
        "x = np.array([1,2,3,4,5])\n",
        "y_true = np.array([1,3,2,4,4])\n",
        "y_predict = 2*x + 1\n",
        "MSE_a = np.square(np.subtract(y_true,y_predict)).mean()\n",
        "MSE_a"
      ],
      "metadata": {
        "colab": {
          "base_uri": "https://localhost:8080/"
        },
        "id": "6bRN8-RVA-UI",
        "outputId": "01169ddf-507c-4a60-f90b-c605265142c9"
      },
      "execution_count": null,
      "outputs": [
        {
          "output_type": "stream",
          "name": "stdout",
          "text": [
            "a) MSE = "
          ]
        },
        {
          "output_type": "execute_result",
          "data": {
            "text/plain": [
              "21.4"
            ]
          },
          "metadata": {},
          "execution_count": 3
        }
      ]
    },
    {
      "cell_type": "code",
      "source": [
        "print('b)')\n",
        "a = int(input('Nhập a: '))\n",
        "b = int(input('Nhập b: '))\n",
        "y_predict_b = a*x + b\n",
        "MSE_b = np.square(np.subtract(y_true,y_predict_b)).mean()\n",
        "MSE_b"
      ],
      "metadata": {
        "colab": {
          "base_uri": "https://localhost:8080/"
        },
        "id": "vj8i-7kybPbh",
        "outputId": "a3fd8fa7-d3e0-4618-c09d-c73f915b9238"
      },
      "execution_count": null,
      "outputs": [
        {
          "name": "stdout",
          "output_type": "stream",
          "text": [
            "b)\n",
            "Nhập a: 2\n",
            "Nhập b: 3\n"
          ]
        },
        {
          "output_type": "execute_result",
          "data": {
            "text/plain": [
              "42.2"
            ]
          },
          "metadata": {},
          "execution_count": 4
        }
      ]
    },
    {
      "cell_type": "code",
      "source": [
        "print('c)')\n",
        "x = x.reshape(-1,1)\n",
        "reg = LinearRegression().fit(x,y_true)\n",
        "print('score:', reg.score(x,y_true))\n",
        "print('coefficient:', reg.coef_)\n",
        "print('intercep:',reg.intercept_)\n",
        "\n",
        "MSE_c = np.square(np.subtract(y_true,reg.predict(x))).mean()\n",
        "print('MSE =',MSE_c)"
      ],
      "metadata": {
        "colab": {
          "base_uri": "https://localhost:8080/"
        },
        "id": "CBkIgm73cUsx",
        "outputId": "12f5f3d8-7794-41cd-d17c-6147eb123771"
      },
      "execution_count": null,
      "outputs": [
        {
          "output_type": "stream",
          "name": "stdout",
          "text": [
            "c)\n",
            "score: 0.7205882352941175\n",
            "coefficient: [0.7]\n",
            "intercep: 0.7000000000000002\n",
            "MSE = 0.3800000000000001\n"
          ]
        }
      ]
    },
    {
      "cell_type": "markdown",
      "source": [
        "#Bài 2"
      ],
      "metadata": {
        "id": "dRhzyiendbuT"
      }
    },
    {
      "cell_type": "code",
      "source": [
        "df = pd.read_csv('data_linear.csv')\n",
        "df.columns = ['Area','Price']\n",
        "df"
      ],
      "metadata": {
        "colab": {
          "base_uri": "https://localhost:8080/",
          "height": 989
        },
        "id": "vbvdRC4xdash",
        "outputId": "67dbf6c1-6902-4f31-95f6-226527fcafa7"
      },
      "execution_count": 13,
      "outputs": [
        {
          "output_type": "execute_result",
          "data": {
            "text/plain": [
              "        Area     Price\n",
              "0    30.0000   448.524\n",
              "1    32.4138   509.248\n",
              "2    34.8276   535.104\n",
              "3    37.2414   551.432\n",
              "4    39.6552   623.418\n",
              "5    42.0690   625.992\n",
              "6    44.4828   655.248\n",
              "7    46.8966   701.377\n",
              "8    49.3103   748.918\n",
              "9    51.7241   757.881\n",
              "10   54.1379   831.004\n",
              "11   56.5517   855.409\n",
              "12   58.9655   866.707\n",
              "13   61.3793   902.545\n",
              "14   63.7931   952.261\n",
              "15   66.2069   995.531\n",
              "16   68.6207  1069.780\n",
              "17   71.0345  1074.420\n",
              "18   73.4483  1103.880\n",
              "19   75.8621  1138.690\n",
              "20   78.2759  1153.130\n",
              "21   80.6897  1240.270\n",
              "22   83.1034  1251.900\n",
              "23   85.5172  1287.970\n",
              "24   87.9310  1320.470\n",
              "25   90.3448  1374.920\n",
              "26   92.7586  1410.160\n",
              "27   95.1724  1469.690\n",
              "28   97.5862  1478.540\n",
              "29  100.0000  1515.280"
            ],
            "text/html": [
              "\n",
              "  <div id=\"df-86666cba-f7b6-4383-951c-26a9da58eecd\">\n",
              "    <div class=\"colab-df-container\">\n",
              "      <div>\n",
              "<style scoped>\n",
              "    .dataframe tbody tr th:only-of-type {\n",
              "        vertical-align: middle;\n",
              "    }\n",
              "\n",
              "    .dataframe tbody tr th {\n",
              "        vertical-align: top;\n",
              "    }\n",
              "\n",
              "    .dataframe thead th {\n",
              "        text-align: right;\n",
              "    }\n",
              "</style>\n",
              "<table border=\"1\" class=\"dataframe\">\n",
              "  <thead>\n",
              "    <tr style=\"text-align: right;\">\n",
              "      <th></th>\n",
              "      <th>Area</th>\n",
              "      <th>Price</th>\n",
              "    </tr>\n",
              "  </thead>\n",
              "  <tbody>\n",
              "    <tr>\n",
              "      <th>0</th>\n",
              "      <td>30.0000</td>\n",
              "      <td>448.524</td>\n",
              "    </tr>\n",
              "    <tr>\n",
              "      <th>1</th>\n",
              "      <td>32.4138</td>\n",
              "      <td>509.248</td>\n",
              "    </tr>\n",
              "    <tr>\n",
              "      <th>2</th>\n",
              "      <td>34.8276</td>\n",
              "      <td>535.104</td>\n",
              "    </tr>\n",
              "    <tr>\n",
              "      <th>3</th>\n",
              "      <td>37.2414</td>\n",
              "      <td>551.432</td>\n",
              "    </tr>\n",
              "    <tr>\n",
              "      <th>4</th>\n",
              "      <td>39.6552</td>\n",
              "      <td>623.418</td>\n",
              "    </tr>\n",
              "    <tr>\n",
              "      <th>5</th>\n",
              "      <td>42.0690</td>\n",
              "      <td>625.992</td>\n",
              "    </tr>\n",
              "    <tr>\n",
              "      <th>6</th>\n",
              "      <td>44.4828</td>\n",
              "      <td>655.248</td>\n",
              "    </tr>\n",
              "    <tr>\n",
              "      <th>7</th>\n",
              "      <td>46.8966</td>\n",
              "      <td>701.377</td>\n",
              "    </tr>\n",
              "    <tr>\n",
              "      <th>8</th>\n",
              "      <td>49.3103</td>\n",
              "      <td>748.918</td>\n",
              "    </tr>\n",
              "    <tr>\n",
              "      <th>9</th>\n",
              "      <td>51.7241</td>\n",
              "      <td>757.881</td>\n",
              "    </tr>\n",
              "    <tr>\n",
              "      <th>10</th>\n",
              "      <td>54.1379</td>\n",
              "      <td>831.004</td>\n",
              "    </tr>\n",
              "    <tr>\n",
              "      <th>11</th>\n",
              "      <td>56.5517</td>\n",
              "      <td>855.409</td>\n",
              "    </tr>\n",
              "    <tr>\n",
              "      <th>12</th>\n",
              "      <td>58.9655</td>\n",
              "      <td>866.707</td>\n",
              "    </tr>\n",
              "    <tr>\n",
              "      <th>13</th>\n",
              "      <td>61.3793</td>\n",
              "      <td>902.545</td>\n",
              "    </tr>\n",
              "    <tr>\n",
              "      <th>14</th>\n",
              "      <td>63.7931</td>\n",
              "      <td>952.261</td>\n",
              "    </tr>\n",
              "    <tr>\n",
              "      <th>15</th>\n",
              "      <td>66.2069</td>\n",
              "      <td>995.531</td>\n",
              "    </tr>\n",
              "    <tr>\n",
              "      <th>16</th>\n",
              "      <td>68.6207</td>\n",
              "      <td>1069.780</td>\n",
              "    </tr>\n",
              "    <tr>\n",
              "      <th>17</th>\n",
              "      <td>71.0345</td>\n",
              "      <td>1074.420</td>\n",
              "    </tr>\n",
              "    <tr>\n",
              "      <th>18</th>\n",
              "      <td>73.4483</td>\n",
              "      <td>1103.880</td>\n",
              "    </tr>\n",
              "    <tr>\n",
              "      <th>19</th>\n",
              "      <td>75.8621</td>\n",
              "      <td>1138.690</td>\n",
              "    </tr>\n",
              "    <tr>\n",
              "      <th>20</th>\n",
              "      <td>78.2759</td>\n",
              "      <td>1153.130</td>\n",
              "    </tr>\n",
              "    <tr>\n",
              "      <th>21</th>\n",
              "      <td>80.6897</td>\n",
              "      <td>1240.270</td>\n",
              "    </tr>\n",
              "    <tr>\n",
              "      <th>22</th>\n",
              "      <td>83.1034</td>\n",
              "      <td>1251.900</td>\n",
              "    </tr>\n",
              "    <tr>\n",
              "      <th>23</th>\n",
              "      <td>85.5172</td>\n",
              "      <td>1287.970</td>\n",
              "    </tr>\n",
              "    <tr>\n",
              "      <th>24</th>\n",
              "      <td>87.9310</td>\n",
              "      <td>1320.470</td>\n",
              "    </tr>\n",
              "    <tr>\n",
              "      <th>25</th>\n",
              "      <td>90.3448</td>\n",
              "      <td>1374.920</td>\n",
              "    </tr>\n",
              "    <tr>\n",
              "      <th>26</th>\n",
              "      <td>92.7586</td>\n",
              "      <td>1410.160</td>\n",
              "    </tr>\n",
              "    <tr>\n",
              "      <th>27</th>\n",
              "      <td>95.1724</td>\n",
              "      <td>1469.690</td>\n",
              "    </tr>\n",
              "    <tr>\n",
              "      <th>28</th>\n",
              "      <td>97.5862</td>\n",
              "      <td>1478.540</td>\n",
              "    </tr>\n",
              "    <tr>\n",
              "      <th>29</th>\n",
              "      <td>100.0000</td>\n",
              "      <td>1515.280</td>\n",
              "    </tr>\n",
              "  </tbody>\n",
              "</table>\n",
              "</div>\n",
              "      <button class=\"colab-df-convert\" onclick=\"convertToInteractive('df-86666cba-f7b6-4383-951c-26a9da58eecd')\"\n",
              "              title=\"Convert this dataframe to an interactive table.\"\n",
              "              style=\"display:none;\">\n",
              "        \n",
              "  <svg xmlns=\"http://www.w3.org/2000/svg\" height=\"24px\"viewBox=\"0 0 24 24\"\n",
              "       width=\"24px\">\n",
              "    <path d=\"M0 0h24v24H0V0z\" fill=\"none\"/>\n",
              "    <path d=\"M18.56 5.44l.94 2.06.94-2.06 2.06-.94-2.06-.94-.94-2.06-.94 2.06-2.06.94zm-11 1L8.5 8.5l.94-2.06 2.06-.94-2.06-.94L8.5 2.5l-.94 2.06-2.06.94zm10 10l.94 2.06.94-2.06 2.06-.94-2.06-.94-.94-2.06-.94 2.06-2.06.94z\"/><path d=\"M17.41 7.96l-1.37-1.37c-.4-.4-.92-.59-1.43-.59-.52 0-1.04.2-1.43.59L10.3 9.45l-7.72 7.72c-.78.78-.78 2.05 0 2.83L4 21.41c.39.39.9.59 1.41.59.51 0 1.02-.2 1.41-.59l7.78-7.78 2.81-2.81c.8-.78.8-2.07 0-2.86zM5.41 20L4 18.59l7.72-7.72 1.47 1.35L5.41 20z\"/>\n",
              "  </svg>\n",
              "      </button>\n",
              "      \n",
              "  <style>\n",
              "    .colab-df-container {\n",
              "      display:flex;\n",
              "      flex-wrap:wrap;\n",
              "      gap: 12px;\n",
              "    }\n",
              "\n",
              "    .colab-df-convert {\n",
              "      background-color: #E8F0FE;\n",
              "      border: none;\n",
              "      border-radius: 50%;\n",
              "      cursor: pointer;\n",
              "      display: none;\n",
              "      fill: #1967D2;\n",
              "      height: 32px;\n",
              "      padding: 0 0 0 0;\n",
              "      width: 32px;\n",
              "    }\n",
              "\n",
              "    .colab-df-convert:hover {\n",
              "      background-color: #E2EBFA;\n",
              "      box-shadow: 0px 1px 2px rgba(60, 64, 67, 0.3), 0px 1px 3px 1px rgba(60, 64, 67, 0.15);\n",
              "      fill: #174EA6;\n",
              "    }\n",
              "\n",
              "    [theme=dark] .colab-df-convert {\n",
              "      background-color: #3B4455;\n",
              "      fill: #D2E3FC;\n",
              "    }\n",
              "\n",
              "    [theme=dark] .colab-df-convert:hover {\n",
              "      background-color: #434B5C;\n",
              "      box-shadow: 0px 1px 3px 1px rgba(0, 0, 0, 0.15);\n",
              "      filter: drop-shadow(0px 1px 2px rgba(0, 0, 0, 0.3));\n",
              "      fill: #FFFFFF;\n",
              "    }\n",
              "  </style>\n",
              "\n",
              "      <script>\n",
              "        const buttonEl =\n",
              "          document.querySelector('#df-86666cba-f7b6-4383-951c-26a9da58eecd button.colab-df-convert');\n",
              "        buttonEl.style.display =\n",
              "          google.colab.kernel.accessAllowed ? 'block' : 'none';\n",
              "\n",
              "        async function convertToInteractive(key) {\n",
              "          const element = document.querySelector('#df-86666cba-f7b6-4383-951c-26a9da58eecd');\n",
              "          const dataTable =\n",
              "            await google.colab.kernel.invokeFunction('convertToInteractive',\n",
              "                                                     [key], {});\n",
              "          if (!dataTable) return;\n",
              "\n",
              "          const docLinkHtml = 'Like what you see? Visit the ' +\n",
              "            '<a target=\"_blank\" href=https://colab.research.google.com/notebooks/data_table.ipynb>data table notebook</a>'\n",
              "            + ' to learn more about interactive tables.';\n",
              "          element.innerHTML = '';\n",
              "          dataTable['output_type'] = 'display_data';\n",
              "          await google.colab.output.renderOutput(dataTable, element);\n",
              "          const docLink = document.createElement('div');\n",
              "          docLink.innerHTML = docLinkHtml;\n",
              "          element.appendChild(docLink);\n",
              "        }\n",
              "      </script>\n",
              "    </div>\n",
              "  </div>\n",
              "  "
            ]
          },
          "metadata": {},
          "execution_count": 13
        }
      ]
    },
    {
      "cell_type": "code",
      "source": [
        "print('a)')\n",
        "plt.scatter(df['Area'],df['Price'])"
      ],
      "metadata": {
        "colab": {
          "base_uri": "https://localhost:8080/",
          "height": 302
        },
        "id": "Nza7fNICeWao",
        "outputId": "4c81226d-802c-4145-b3b3-9325bfe7a182"
      },
      "execution_count": 14,
      "outputs": [
        {
          "output_type": "stream",
          "name": "stdout",
          "text": [
            "a)\n"
          ]
        },
        {
          "output_type": "execute_result",
          "data": {
            "text/plain": [
              "<matplotlib.collections.PathCollection at 0x7f27a95f30d0>"
            ]
          },
          "metadata": {},
          "execution_count": 14
        },
        {
          "output_type": "display_data",
          "data": {
            "text/plain": [
              "<Figure size 432x288 with 1 Axes>"
            ],
            "image/png": "[encoded data removed]"
          },
          "metadata": {
            "needs_background": "light"
          }
        }
      ]
    },
    {
      "cell_type": "code",
      "source": [
        "print('b)')\n",
        "x = df['Area']\n",
        "y = df['Price']\n",
        "x_matrix = x.values.reshape(-1,1)\n",
        "reg = LinearRegression()\n",
        "reg.fit(x_matrix,y)\n",
        "reg.coef_\n",
        "print('Coefficient =', reg.coef_)\n",
        "print('Intercept =', reg.intercept_)\n",
        "print('Score =',reg.score(x_matrix, y))\n",
        "MSE = np.square(np.subtract(y,reg.predict(x_matrix))).mean()\n",
        "print('MSE =', MSE)"
      ],
      "metadata": {
        "colab": {
          "base_uri": "https://localhost:8080/"
        },
        "id": "_MoQg15Kg9MX",
        "outputId": "c4ff1b01-fa09-4fc2-8ebb-545e31300ad1"
      },
      "execution_count": 15,
      "outputs": [
        {
          "output_type": "stream",
          "name": "stdout",
          "text": [
            "b)\n",
            "Coefficient = [15.2110908]\n",
            "Intercept = -7.064268645244965\n",
            "Score = 0.9975640411137482\n",
            "MSE = 246.61987849112478\n"
          ]
        }
      ]
    },
    {
      "cell_type": "code",
      "source": [
        "print('c)')\n",
        "print('Nhà diện tích 50 có giá khoảng:', reg.predict([[50]]))\n",
        "print('Nhà diện tích 120 có giá khoảng:', reg.predict([[120]]))\n",
        "print('Nhà diện tích 150 có giá khoảng:', reg.predict([[150]]))"
      ],
      "metadata": {
        "colab": {
          "base_uri": "https://localhost:8080/"
        },
        "id": "Egs2E-tklHsC",
        "outputId": "777624bc-1fcf-4fbf-f5f9-cfcf2599df26"
      },
      "execution_count": 16,
      "outputs": [
        {
          "output_type": "stream",
          "name": "stdout",
          "text": [
            "c)\n",
            "Nhà diện tích 50 có giá khoảng: [753.49027134]\n",
            "Nhà diện tích 120 có giá khoảng: [1818.26662732]\n",
            "Nhà diện tích 150 có giá khoảng: [2274.59935131]\n"
          ]
        }
      ]
    },
    {
      "cell_type": "code",
      "source": [
        "print('d)')\n",
        "plt.scatter(df['Area'],df['Price'])\n",
        "plt.plot(x_matrix, reg.predict(x_matrix), color = \"g\")"
      ],
      "metadata": {
        "colab": {
          "base_uri": "https://localhost:8080/",
          "height": 302
        },
        "id": "po9FSToolt8X",
        "outputId": "f62bc586-f0a1-47da-ca49-3a26b9208a4e"
      },
      "execution_count": 17,
      "outputs": [
        {
          "output_type": "stream",
          "name": "stdout",
          "text": [
            "d)\n"
          ]
        },
        {
          "output_type": "execute_result",
          "data": {
            "text/plain": [
              "[<matplotlib.lines.Line2D at 0x7f27a90a5d90>]"
            ]
          },
          "metadata": {},
          "execution_count": 17
        },
        {
          "output_type": "display_data",
          "data": {
            "text/plain": [
              "<Figure size 432x288 with 1 Axes>"
            ],
            "image/png": "[encoded data removed]"
          },
          "metadata": {
            "needs_background": "light"
          }
        }
      ]
    },
    {
      "cell_type": "markdown",
      "source": [
        "#Bài 3"
      ],
      "metadata": {
        "id": "bo-OY5x6mcPD"
      }
    },
    {
      "cell_type": "code",
      "source": [
        "df = pd.read_csv('data_square.csv')\n"
      ],
      "metadata": {
        "id": "HDhPF8MFmgbs"
      },
      "execution_count": 18,
      "outputs": []
    },
    {
      "cell_type": "code",
      "source": [
        "print('a)')\n",
        "plt.scatter(df['Diện tích'],df['Giá nhà'])"
      ],
      "metadata": {
        "id": "wT3phNvlmxsk",
        "colab": {
          "base_uri": "https://localhost:8080/",
          "height": 302
        },
        "outputId": "7b2edb12-1451-448f-d571-6141aa595c25"
      },
      "execution_count": 19,
      "outputs": [
        {
          "output_type": "stream",
          "name": "stdout",
          "text": [
            "a)\n"
          ]
        },
        {
          "output_type": "execute_result",
          "data": {
            "text/plain": [
              "<matplotlib.collections.PathCollection at 0x7f27a9532bd0>"
            ]
          },
          "metadata": {},
          "execution_count": 19
        },
        {
          "output_type": "display_data",
          "data": {
            "text/plain": [
              "<Figure size 432x288 with 1 Axes>"
            ],
            "image/png": "[encoded data removed]"
          },
          "metadata": {
            "needs_background": "light"
          }
        }
      ]
    },
    {
      "cell_type": "code",
      "source": [
        "house = df['Diện tích']\n",
        "price = df['Giá nhà']\n",
        "house_matrix = house.values.reshape(-1,1)\n",
        "reg = LinearRegression()\n",
        "reg.fit(house_matrix,price)\n",
        "print('Coefficient:', reg.coef_)\n",
        "print('Intercept:', reg.intercept_)\n",
        "print('Score:', reg.score(house_matrix, y))\n",
        "MSE = np.square(np.subtract(price,reg.predict(house_matrix))).mean()\n",
        "print('MSE =', MSE)"
      ],
      "metadata": {
        "colab": {
          "base_uri": "https://localhost:8080/"
        },
        "id": "VycDi-TarU-h",
        "outputId": "6d8c239e-ead4-4d2c-a8fd-4057ad5499f9"
      },
      "execution_count": 29,
      "outputs": [
        {
          "output_type": "stream",
          "name": "stdout",
          "text": [
            "Coefficient: [30.00003629]\n",
            "Intercept: -1788.5078219019097\n",
            "Score: -6.589576675053398\n",
            "MSE = 151913.44790611093\n"
          ]
        }
      ]
    },
    {
      "cell_type": "code",
      "source": [
        "print('c)')\n",
        "plt.scatter(df['Diện tích'],df['Giá nhà'])\n",
        "plt.plot(x_matrix, reg.predict(x_matrix), color = \"g\")"
      ],
      "metadata": {
        "colab": {
          "base_uri": "https://localhost:8080/",
          "height": 302
        },
        "id": "ZR6RzUhTucPN",
        "outputId": "73fc395a-911d-4fe2-e6c5-eefbb52b9f73"
      },
      "execution_count": 30,
      "outputs": [
        {
          "output_type": "stream",
          "name": "stdout",
          "text": [
            "c)\n"
          ]
        },
        {
          "output_type": "execute_result",
          "data": {
            "text/plain": [
              "[<matplotlib.lines.Line2D at 0x7f27a8a91150>]"
            ]
          },
          "metadata": {},
          "execution_count": 30
        },
        {
          "output_type": "display_data",
          "data": {
            "text/plain": [
              "<Figure size 432x288 with 1 Axes>"
            ],
            "image/png": "[encoded data removed]"
          },
          "metadata": {
            "needs_background": "light"
          }
        }
      ]
    },
    {
      "cell_type": "markdown",
      "source": [
        "Có thể thấy model ở phần b không được tốt vì model cách các training set rất xa, không dủ tốt để mô tả dữ liệu"
      ],
      "metadata": {
        "id": "uL4xbZ2zumBE"
      }
    },
    {
      "cell_type": "code",
      "source": [
        "area = df['Diện tích']\n",
        "area = area.values.reshape(-1,1)\n",
        "X = np.append(area,area**2,axis = 1)\n",
        "reg = LinearRegression()\n",
        "reg.fit(X, price)\n",
        "plt.scatter(df['Diện tích'],df['Giá nhà'])\n",
        "plt.plot(X, reg.predict(X), color = \"g\")\n"
      ],
      "metadata": {
        "id": "kER5WB3WvFYU",
        "colab": {
          "base_uri": "https://localhost:8080/",
          "height": 302
        },
        "outputId": "4aa84a96-f05a-4796-e4bb-55ed8e988e17"
      },
      "execution_count": 33,
      "outputs": [
        {
          "output_type": "execute_result",
          "data": {
            "text/plain": [
              "<Figure size 1440x504 with 0 Axes>"
            ]
          },
          "metadata": {},
          "execution_count": 33
        },
        {
          "output_type": "display_data",
          "data": {
            "text/plain": [
              "<Figure size 432x288 with 1 Axes>"
            ],
            "image/png": "[encoded data removed]"
          },
          "metadata": {
            "needs_background": "light"
          }
        },
        {
          "output_type": "display_data",
          "data": {
            "text/plain": [
              "<Figure size 1440x504 with 0 Axes>"
            ]
          },
          "metadata": {}
        }
      ]
    }
  ]
}