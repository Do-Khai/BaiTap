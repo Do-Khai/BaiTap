{
  "nbformat": 4,
  "nbformat_minor": 0,
  "metadata": {
    "colab": {
      "name": "DoKhai.ipynb",
      "provenance": [],
      "collapsed_sections": [],
      "authorship_tag": "ABX9TyO3J7QPPK430TmcTovN9+5j",
      "include_colab_link": true
    },
    "kernelspec": {
      "name": "python3",
      "display_name": "Python 3"
    },
    "language_info": {
      "name": "python"
    }
  },
  "cells": [
    {
      "cell_type": "markdown",
      "metadata": {
        "id": "view-in-github",
        "colab_type": "text"
      },
      "source": [
        "<a href=\"https://colab.research.google.com/github/Do-Khai/BaiTap/blob/main/DoKhai.ipynb\" target=\"_parent\"><img src=\"https://colab.research.google.com/assets/colab-badge.svg\" alt=\"Open In Colab\"/></a>"
      ]
    },
    {
      "cell_type": "markdown",
      "source": [
        "#Bài 1\n"
      ],
      "metadata": {
        "id": "2feRyUZKozh_"
      }
    },
    {
      "cell_type": "code",
      "execution_count": null,
      "metadata": {
        "colab": {
          "base_uri": "https://localhost:8080/"
        },
        "id": "1sCqf_H40Uum",
        "outputId": "891b07b1-ccc4-4e35-c25b-42218470c1e9"
      },
      "outputs": [
        {
          "output_type": "stream",
          "name": "stdout",
          "text": [
            "Bai1:\n",
            "a) ['elephant', 'ant', 'dog', 'cat']\n",
            "b) ['elephant', 'dolphin', 'ant', 'dog', 'cat']\n",
            "c) ['elephant', 'dolphin', 'dog', 'cat']\n",
            "d) ['elephant', 'dolphin', 'dog']\n"
          ]
        }
      ],
      "source": [
        "print('Bai 1:')\n",
        "animals_list = ['elephant', 'ant', 'dog']\n",
        "animals_list.append('cat')\n",
        "print ('a)', animals_list)\n",
        "\n",
        "animals_list.insert(1, 'dolphin')\n",
        "print('b)', animals_list)\n",
        "\n",
        "animals_list.remove('ant')\n",
        "print('c)', animals_list)\n",
        "\n",
        "animals_list.pop(-1)\n",
        "print('d)', animals_list)"
      ]
    },
    {
      "cell_type": "markdown",
      "source": [
        "#Bài 2"
      ],
      "metadata": {
        "id": "F9Dz98a6o680"
      }
    },
    {
      "cell_type": "code",
      "source": [
        "print('Bai 2:')\n",
        "list1 = [\"M\", \"na\", \"i\", \"Hoa\"] \n",
        "list2 = [\"y\", \"me\", \"s\", \"ng\"]\n",
        "list3 = [i + j for i, j in zip(list1, list2)]\n",
        "print(list3)"
      ],
      "metadata": {
        "colab": {
          "base_uri": "https://localhost:8080/"
        },
        "id": "scEguqpM0dLM",
        "outputId": "af7ca63d-3e89-47d8-edee-a8d21fc6b370"
      },
      "execution_count": null,
      "outputs": [
        {
          "output_type": "stream",
          "name": "stdout",
          "text": [
            "Bai2:\n",
            "['My', 'name', 'is', 'Hoang']\n"
          ]
        }
      ]
    },
    {
      "cell_type": "markdown",
      "source": [
        "#Bài 3"
      ],
      "metadata": {
        "id": "Uo5Ix3iuo_XY"
      }
    },
    {
      "cell_type": "code",
      "source": [
        "print('Bai 3:')\n",
        "input_list = ['Mike','','','','Emma','','Kelly','','','Brad']\n",
        "#Use for loop:\n",
        "input_copy = input_list.copy()\n",
        "for i in input_copy:\n",
        "    if not i:\n",
        "        input_list.remove(i)\n",
        "print(input_list)\n",
        "print('\\n')\n",
        "#Use list comprehension:\n",
        "output_list = []\n",
        "for i in input_list:\n",
        "    if i:\n",
        "        output_list.append(i)\n",
        "print(output_list)\n"
      ],
      "metadata": {
        "colab": {
          "base_uri": "https://localhost:8080/"
        },
        "id": "urS-D69m0hwe",
        "outputId": "450b4b14-9fe9-4187-c78e-718e66f2ab6d"
      },
      "execution_count": null,
      "outputs": [
        {
          "output_type": "stream",
          "name": "stdout",
          "text": [
            "Bai3:\n",
            "['Mike', 'Emma', 'Kelly', 'Brad']\n",
            "\n",
            "\n",
            "['Mike', 'Emma', 'Kelly', 'Brad']\n"
          ]
        }
      ]
    },
    {
      "cell_type": "markdown",
      "source": [
        "#Bài 4"
      ],
      "metadata": {
        "id": "8TPr36gWpA2B"
      }
    },
    {
      "cell_type": "code",
      "source": [
        "print('Bai 4')\n",
        "def check(x):\n",
        "    for i in range(len(x)-1):\n",
        "        if len(set(x)) == 1:\n",
        "            return True\n",
        "        else: return False\n",
        "tuple1 = (10,10,10,10)\n",
        "tuple2 = (10,10,2)\n",
        "print(check(tuple1))\n",
        "print(check(tuple2))"
      ],
      "metadata": {
        "colab": {
          "base_uri": "https://localhost:8080/"
        },
        "id": "XjIOd4Vx012i",
        "outputId": "4ed1bac8-2e17-4da0-a691-269cf88a0a77"
      },
      "execution_count": null,
      "outputs": [
        {
          "output_type": "stream",
          "name": "stdout",
          "text": [
            "Bai 4\n",
            "True\n",
            "False\n"
          ]
        }
      ]
    },
    {
      "cell_type": "markdown",
      "source": [
        "#Bài 5"
      ],
      "metadata": {
        "id": "28lfZBY9pCej"
      }
    },
    {
      "cell_type": "code",
      "source": [
        "print('Bai 5')\n",
        "set1 = {10,20,30,40,50}\n",
        "set2 = {30,40,50,60,70}\n",
        "print('a)', set1 | set2)\n",
        "print('b)', set1 & set2)\n",
        "print('c)', set1 - set2)"
      ],
      "metadata": {
        "colab": {
          "base_uri": "https://localhost:8080/"
        },
        "id": "n3rcxyXu05GR",
        "outputId": "6f6193fd-f9ad-43ee-e908-2599ea6230b8"
      },
      "execution_count": null,
      "outputs": [
        {
          "output_type": "stream",
          "name": "stdout",
          "text": [
            "Bai5\n",
            "a) {70, 40, 10, 50, 20, 60, 30}\n",
            "b) {40, 50, 30}\n",
            "c) {10, 20}\n"
          ]
        }
      ]
    },
    {
      "cell_type": "markdown",
      "source": [
        "#Bài 6"
      ],
      "metadata": {
        "id": "dU8T7WeapFCN"
      }
    },
    {
      "cell_type": "code",
      "source": [
        "print('Bai 6:')\n",
        "information = {\n",
        "    'name': 'Tuan',\n",
        "    'age' : 18,\n",
        "    'salary' : 8000,\n",
        "    'city' : 'HaNoi'\n",
        "}\n",
        "information['Job'] = 'IT'\n",
        "print('a)', information)\n",
        "print('b) Salary:', information['salary'])\n",
        "\n",
        "del information['age']\n",
        "print('c)', information)\n",
        "\n",
        "information['salary'] = 10000\n",
        "print('d)', information)"
      ],
      "metadata": {
        "colab": {
          "base_uri": "https://localhost:8080/"
        },
        "id": "3iJ7xDck07eF",
        "outputId": "3a4e8709-496e-4fbe-dd25-fa5483ac8f99"
      },
      "execution_count": null,
      "outputs": [
        {
          "output_type": "stream",
          "name": "stdout",
          "text": [
            "Bai6:\n",
            "a) {'name': 'Tuan', 'age': 18, 'salary': 8000, 'city': 'HaNoi', 'Job': 'IT'}\n",
            "b) Salary: 8000\n",
            "c) {'name': 'Tuan', 'salary': 8000, 'city': 'HaNoi', 'Job': 'IT'}\n",
            "d) {'name': 'Tuan', 'salary': 10000, 'city': 'HaNoi', 'Job': 'IT'}\n"
          ]
        }
      ]
    },
    {
      "cell_type": "markdown",
      "source": [
        "#Bài 7"
      ],
      "metadata": {
        "id": "Mey9gXdTpILQ"
      }
    },
    {
      "cell_type": "code",
      "source": [
        "print('Bai7:')\n",
        "keys = ['Ten','Twenty','Thirty']\n",
        "values = [10,20,30]\n",
        "number_dict = dict(zip(keys,values))\n",
        "print(number_dict)"
      ],
      "metadata": {
        "colab": {
          "base_uri": "https://localhost:8080/"
        },
        "id": "k8NT0Xk81Bwn",
        "outputId": "793a15a6-41aa-4e43-91f9-1efd15d42e8d"
      },
      "execution_count": null,
      "outputs": [
        {
          "output_type": "stream",
          "name": "stdout",
          "text": [
            "Bai7:\n",
            "{'Ten': 10, 'Twenty': 20, 'Thirty': 30}\n"
          ]
        }
      ]
    },
    {
      "cell_type": "markdown",
      "source": [
        "#Bài 8"
      ],
      "metadata": {
        "id": "0IrhrW83pJpf"
      }
    },
    {
      "cell_type": "code",
      "source": [
        "print('Bai 8:')\n",
        "dict_num = {}\n",
        "num = [1,2,3,1,2,1,1,4]\n",
        "for i in num:\n",
        "    if i in dict_num:\n",
        "        dict_num[i] += 1\n",
        "    else:\n",
        "        dict_num[i] = 1\n",
        "print('a)', dict_num)\n",
        "\n",
        "print('b) Nhiều nhất:', max(dict_num.keys(), key=dict_num.get))\n",
        "print('   Ít nhất:',end=' ')\n",
        "for key,value in dict_num.items():\n",
        "    if dict_num[key] == 1:\n",
        "        print(key,end=' ')\n",
        "print('\\n')\n",
        "count = 0\n",
        "avr = 0\n",
        "sum = 0\n",
        "for i in dict_num.keys():\n",
        "    count += 1\n",
        "    sum += i\n",
        "    avr = float(sum/count)\n",
        "print('c)', avr) "
      ],
      "metadata": {
        "colab": {
          "base_uri": "https://localhost:8080/"
        },
        "id": "ELtUHHxB1Eb5",
        "outputId": "66192a12-3088-4640-daae-b7da418f0e60"
      },
      "execution_count": null,
      "outputs": [
        {
          "output_type": "stream",
          "name": "stdout",
          "text": [
            "Bai8:\n",
            "a) {1: 4, 2: 2, 3: 1, 4: 1}\n",
            "b) Nhiều nhất: 1\n",
            "   Ít nhất: 3 4 \n",
            "\n",
            "c) 2.5\n"
          ]
        }
      ]
    },
    {
      "cell_type": "markdown",
      "source": [
        "#Bài 9"
      ],
      "metadata": {
        "id": "cWIIRMxvpLh9"
      }
    },
    {
      "cell_type": "code",
      "source": [
        "print('Bai 9:')\n",
        "scores = {'Hoang': 8, 'Giang beo': 7, 'Giang gay': 9, 'MeoMeo': 10}\n",
        "def SearchInfor(x):\n",
        "    while True:\n",
        "        NhapTen = input('Nhap ten hoc sinh: ')\n",
        "        if NhapTen in x.keys():\n",
        "            print('Diem so:', x[NhapTen])\n",
        "        else:\n",
        "            print('Hoc sinh khong có trong lop')\n",
        "        choice = input('Tim kiem tiep?(y/n):')\n",
        "        if choice == 'y':\n",
        "            continue\n",
        "        elif choice == 'n':\n",
        "            break\n",
        "    \n",
        "print('a)')\n",
        "SearchInfor(scores)\n",
        "\n",
        "print('b)')\n",
        "def AddInfor(x):\n",
        "    while True:\n",
        "        Name = input('Nhap ten hoc sinh: ')\n",
        "        Grade = int(input('Diem so: '))\n",
        "        x[Name] = Grade\n",
        "        print(x)\n",
        "        choice = input('Nhap them thong tin?(y/n):')\n",
        "        if choice == 'y':\n",
        "            continue\n",
        "        elif choice == 'n':\n",
        "            break\n",
        "AddInfor(scores)\n",
        "\n",
        "print('c)')\n",
        "print('Ban co diem so lon nhat:',max(scores.keys(), key=scores.get))\n",
        "print('Ban co diem so thap nhat:', min(scores.keys(), key=scores.get))\n"
      ],
      "metadata": {
        "colab": {
          "base_uri": "https://localhost:8080/"
        },
        "id": "mrCnX9E81LLb",
        "outputId": "844339d5-5140-454e-f4cc-c913174228d6"
      },
      "execution_count": null,
      "outputs": [
        {
          "output_type": "stream",
          "name": "stdout",
          "text": [
            "Bai9:\n",
            "a)\n",
            "Nhap ten hoc sinh: Hoang\n",
            "Diem so: 8\n",
            "Tim kiem tiep?(y/n):n\n",
            "b)\n",
            "Nhap ten hoc sinh: Khai\n",
            "Diem so: 10\n",
            "{'Hoang': 8, 'Giang beo': 7, 'Giang gay': 9, 'MeoMeo': 10, 'Khai': 10}\n",
            "Nhap them thong tin?(y/n):n\n",
            "c)\n",
            "Ban co diem so lon nhat: MeoMeo\n",
            "Ban co diem so thap nhat: Giang beo\n"
          ]
        }
      ]
    },
    {
      "cell_type": "markdown",
      "source": [
        "#Bài 10"
      ],
      "metadata": {
        "id": "KjOwssSkpNuh"
      }
    },
    {
      "cell_type": "code",
      "source": [
        "print('Bai 10: ')\n",
        "dict_sanpham = {}\n",
        "while True:\n",
        "    san_pham = str(input('Ten san pham '))\n",
        "    if san_pham == 'end':\n",
        "        break\n",
        "    else:\n",
        "        so_luong = int(input('So luong '))\n",
        "        if san_pham not in dict_sanpham.keys():\n",
        "            dict_sanpham[san_pham] = so_luong\n",
        "            print(dict_sanpham)\n",
        "        elif san_pham in dict_sanpham.keys():\n",
        "            dict_sanpham[san_pham] += so_luong\n",
        "print(dict_sanpham)\n",
        "\n",
        "print('a)')\n",
        "def TimSanPham(x):\n",
        "    while True:\n",
        "        nhap = input('Tim san pham: ')\n",
        "        if nhap in x.keys():\n",
        "            print('So luong:', x[nhap])\n",
        "        else:\n",
        "            print('Khong co san pham')\n",
        "        choice = input('Tim kiem tiep?(y/n):')\n",
        "        if choice == 'y':\n",
        "            continue\n",
        "        elif choice == 'n':\n",
        "            break\n",
        "\n",
        "TimSanPham(dict_sanpham)\n",
        "print('b)')\n",
        "print('San pham co so luong lon nhat:',max(dict_sanpham.keys(), key=dict_sanpham.get))\n",
        "print('So luong:', dict_sanpham[max(dict_sanpham.keys(), key=dict_sanpham.get)])\n",
        "print('San pham co so luong it nhat:', min(dict_sanpham.keys(), key=dict_sanpham.get))\n",
        "print('So luong:', dict_sanpham[min(dict_sanpham.keys(), key=dict_sanpham.get)])\n"
      ],
      "metadata": {
        "colab": {
          "base_uri": "https://localhost:8080/"
        },
        "id": "IWMVWeNh2ASR",
        "outputId": "b7d56131-45a5-4bd9-b6ed-883e227144f2"
      },
      "execution_count": null,
      "outputs": [
        {
          "output_type": "stream",
          "name": "stdout",
          "text": [
            "Bai10: \n",
            "Ten san pham Banh my\n",
            "So luong 20\n",
            "{'Banh my': 20}\n",
            "Ten san pham Sua\n",
            "So luong 10\n",
            "{'Banh my': 20, 'Sua': 10}\n",
            "Ten san pham Banh my\n",
            "So luong 30\n",
            "Ten san pham Tuong ot\n",
            "So luong 10\n",
            "{'Banh my': 50, 'Sua': 10, 'Tuong ot': 10}\n",
            "Ten san pham end\n",
            "{'Banh my': 50, 'Sua': 10, 'Tuong ot': 10}\n",
            "a)\n",
            "\n",
            "\n",
            "Tim san pham: Banh my\n",
            "So luong: 50\n",
            "Tim kiem tiep?(y/n):n\n",
            "\n",
            "\n",
            "b)\n",
            "San pham co so luong lon nhat: Banh my\n",
            "So luong: 50\n",
            "San pham co so luong it nhat: Sua\n",
            "So luong: 10\n"
          ]
        }
      ]
    },
    {
      "cell_type": "markdown",
      "source": [
        "#Bài 11"
      ],
      "metadata": {
        "id": "i99cUXGJpVvw"
      }
    },
    {
      "cell_type": "code",
      "source": [
        "print('Bai 11')\n",
        "random_str11 = input('Nhap chuoi: ')\n",
        "count_lower = 0\n",
        "count_upper = 0\n",
        "count_number = 0\n",
        "count_other = 0\n",
        "for i in random_str11:\n",
        "    if i.isupper():\n",
        "        count_upper += 1\n",
        "    elif i.islower():\n",
        "        count_lower += 1\n",
        "    elif i.isnumeric():\n",
        "        count_number += 1\n",
        "    else: count_other += 1\n",
        "print('Số ký tự hoa:', count_upper)\n",
        "print('Số ký tự thường:', count_lower)\n",
        "print('Số chữ số:', count_number)\n",
        "print('Số ký tự khác:', count_other)"
      ],
      "metadata": {
        "colab": {
          "base_uri": "https://localhost:8080/"
        },
        "id": "KmijAdXj2QUM",
        "outputId": "f25d0892-63bf-4ab8-8d4c-716cdf8549f2"
      },
      "execution_count": null,
      "outputs": [
        {
          "output_type": "stream",
          "name": "stdout",
          "text": [
            "Bai11\n",
            "Nhap chuoi: Hoang Do Khai 147\n",
            "Số ký tự hoa: 3\n",
            "Số ký tự thường: 8\n",
            "Số chữ số: 3\n",
            "Số ký tự khác: 3\n"
          ]
        }
      ]
    },
    {
      "cell_type": "markdown",
      "source": [
        "#Bài 12"
      ],
      "metadata": {
        "id": "HRnKoL6SpXQt"
      }
    },
    {
      "cell_type": "markdown",
      "source": [
        "#"
      ],
      "metadata": {
        "id": "YStoWsWqpW-J"
      }
    },
    {
      "cell_type": "code",
      "source": [
        "print('Bai 12:')\n",
        "dict_12 = {}\n",
        "random_str12 = input('Nhap chuoi: ').lower()\n",
        "#Loại bỏ ký tự đặc biệt:\n",
        "new_string12 = ''.join(char for char in random_str12 if char.isalnum())    \n",
        "for i in new_string12:\n",
        "    if i in dict_12:\n",
        "        dict_12[i] += 1\n",
        "    else: \n",
        "        dict_12[i] = 1\n",
        "print(dict_12)"
      ],
      "metadata": {
        "colab": {
          "base_uri": "https://localhost:8080/"
        },
        "id": "DgjZfKFn2UsX",
        "outputId": "723b7332-e4ca-45c5-d310-ec9fe28d5b94"
      },
      "execution_count": null,
      "outputs": [
        {
          "output_type": "stream",
          "name": "stdout",
          "text": [
            "Bai12:\n",
            "Nhap chuoi: Hoang Do Khai.com\n",
            "{'h': 2, 'o': 3, 'a': 2, 'n': 1, 'g': 1, 'd': 1, 'k': 1, 'i': 1, 'c': 1, 'm': 1}\n"
          ]
        }
      ]
    },
    {
      "cell_type": "markdown",
      "source": [
        "#Bài 13"
      ],
      "metadata": {
        "id": "duHxYvR9pZdI"
      }
    },
    {
      "cell_type": "code",
      "source": [
        "print('Bai 13:')\n",
        "random_str13 = input('Nhap chuoi ')\n",
        "random_str13 = random_str13[0] + random_str13[1:].lower().replace(random_str13[0].lower(),'$')\n",
        "print(random_str13)"
      ],
      "metadata": {
        "colab": {
          "base_uri": "https://localhost:8080/"
        },
        "id": "uLCXPoAi2bJW",
        "outputId": "676cb78c-4efa-48df-9f22-6ab7bfa5d456"
      },
      "execution_count": null,
      "outputs": [
        {
          "output_type": "stream",
          "name": "stdout",
          "text": [
            "Bai13:\n",
            "Nhap chuoi Hoang Hoa Tham\n",
            "Hoang $oa t$am\n"
          ]
        }
      ]
    },
    {
      "cell_type": "markdown",
      "source": [
        "#Bài 14"
      ],
      "metadata": {
        "id": "XNcwfSnspamH"
      }
    },
    {
      "cell_type": "code",
      "source": [
        "print('Bai 14:')\n",
        "verb = input('Nhap dong tu: ')\n",
        "vowel = ['u','i','o','e','a']\n",
        "if verb[-1] == 'e' and verb[-2] =='i':\n",
        "    verb = verb[:-2] + verb[-2:].lower().replace(verb[-2:],'y') + 'ing'\n",
        "elif verb[-1] == 'e':\n",
        "    verb = verb[:-1] + verb[-1].lower().replace(verb[-1],'ing')\n",
        "elif verb[-2] in vowel:\n",
        "    verb = verb + verb[-1] + 'ing'\n",
        "else: verb += 'ing'\n",
        "print(verb)"
      ],
      "metadata": {
        "colab": {
          "base_uri": "https://localhost:8080/"
        },
        "id": "dMjGsGGZ2irJ",
        "outputId": "77327b3f-6e4a-466e-8dcd-5d182abfb5c4"
      },
      "execution_count": null,
      "outputs": [
        {
          "output_type": "stream",
          "name": "stdout",
          "text": [
            "Bai14:\n",
            "Nhap dong tu: Recognise\n",
            "Recognising\n"
          ]
        }
      ]
    },
    {
      "cell_type": "markdown",
      "source": [
        "#Bài 15"
      ],
      "metadata": {
        "id": "e7K6re8Wpb0Z"
      }
    },
    {
      "cell_type": "code",
      "source": [
        "print('Bai 15:')\n",
        "def find_all(string,substring):\n",
        "    length = len(substring)\n",
        "    c=0\n",
        "    index = []\n",
        "    while c < len(string):\n",
        "        if string[c:c+length] == substring:\n",
        "            index.append(c)\n",
        "        c=c+1\n",
        "    print('Vi tri cua cac subtring', index)\n",
        "string15 = input('Nhap string ').lower()\n",
        "sub_string15 = input('Nhap subtring ').lower()\n",
        "find_all(string15, sub_string15)"
      ],
      "metadata": {
        "colab": {
          "base_uri": "https://localhost:8080/"
        },
        "id": "yUsb5zDR2rQd",
        "outputId": "2b9b48a9-0f42-4e40-e8a0-b6178ff1a458"
      },
      "execution_count": null,
      "outputs": [
        {
          "output_type": "stream",
          "name": "stdout",
          "text": [
            "Bai15:\n",
            "Nhap string Ai la Khai ha Hai\n",
            "Nhap subtring ai\n",
            "Vi tri cua cac subtring [0, 8, 15]\n"
          ]
        }
      ]
    },
    {
      "cell_type": "markdown",
      "source": [
        "#Bài 16"
      ],
      "metadata": {
        "id": "C6uWaK8YpdKt"
      }
    },
    {
      "cell_type": "code",
      "source": [
        "print('Bai 16:')\n",
        "def replace(x, subtring, resub, pos):\n",
        "    pos_sub = -1\n",
        "    for i in range(len(x)):\n",
        "        last = i + len(subtring)\n",
        "        if x[i:last] == subtring:\n",
        "            pos_sub += 1\n",
        "            if pos_sub == pos:\n",
        "                x = x[:i] + resub + x[last:]\n",
        "                return x\n",
        "\n",
        "\n",
        "x = input(\"Nhập srting:\")\n",
        "sub = input(\"Nhập subtring:\")\n",
        "resub = input(\"Nhập subtring muốn chuyển thành:\")\n",
        "pos = int(input(\"Vị trí:\"))\n",
        "\n",
        "\n",
        "print(\"Sau khi thay đổi:\", replace(x, sub, resub, pos))\n"
      ],
      "metadata": {
        "id": "4fZdqvmo2xtc",
        "colab": {
          "base_uri": "https://localhost:8080/"
        },
        "outputId": "e9a02745-e9a0-402a-9e49-3829c4bcbb0e"
      },
      "execution_count": 11,
      "outputs": [
        {
          "output_type": "stream",
          "name": "stdout",
          "text": [
            "Bai 16:\n",
            "Nhập srting:khai khong phai khai\n",
            "Nhập subtring:khai\n",
            "Nhập subtring muốn chuyển thành:hai\n",
            "Vị trí:1\n",
            "Sau khi thay đổi: khai khong phai hai\n"
          ]
        }
      ]
    },
    {
      "cell_type": "markdown",
      "source": [
        "#Bài 17"
      ],
      "metadata": {
        "id": "kaF8VFR6pgCZ"
      }
    },
    {
      "cell_type": "code",
      "source": [
        "print('Bai 17:')\n",
        "input_17 = input('Nhap').split(',')\n",
        "res = sorted(list(set(input_17)))\n",
        "print(res)"
      ],
      "metadata": {
        "colab": {
          "base_uri": "https://localhost:8080/"
        },
        "id": "lkEHP_do3F-Q",
        "outputId": "cc0e88b4-87d2-4d14-c6c2-0f2d9733d06d"
      },
      "execution_count": null,
      "outputs": [
        {
          "output_type": "stream",
          "name": "stdout",
          "text": [
            "Nhapred,white,black,red,green,black\n",
            "['black', 'green', 'red', 'white']\n"
          ]
        }
      ]
    },
    {
      "cell_type": "markdown",
      "source": [
        "#Bài 18"
      ],
      "metadata": {
        "id": "tldApBrWphji"
      }
    },
    {
      "cell_type": "code",
      "source": [
        "print('Bai 18:')\n",
        "string_18 = 'Nguyen ngOc HuY      hOANG'\n",
        "q = ' '.join(string_18.split())\n",
        "print(q.title())"
      ],
      "metadata": {
        "colab": {
          "base_uri": "https://localhost:8080/"
        },
        "id": "rPZOBqWH30gG",
        "outputId": "a4094f15-580a-4f76-8306-80ab31d7189a"
      },
      "execution_count": null,
      "outputs": [
        {
          "output_type": "stream",
          "name": "stdout",
          "text": [
            "Bai18:\n",
            "Nguyen Ngoc Huy Hoang\n"
          ]
        }
      ]
    },
    {
      "cell_type": "code",
      "source": [
        "print('Bai19')"
      ],
      "metadata": {
        "id": "wvSf0_z45rRz"
      },
      "execution_count": null,
      "outputs": []
    },
    {
      "cell_type": "markdown",
      "source": [
        "#Bài 20"
      ],
      "metadata": {
        "id": "gCDVzxIIpi5T"
      }
    },
    {
      "cell_type": "code",
      "source": [
        "print('Bai 20:')\n",
        "smt = '''Inteface ethernet0 is up\n",
        "Inteface ethernet1 is down\n",
        "Inteface serial0 is down\n",
        "Inteface serial1 is up'''\n",
        "smt = smt.replace('Inteface','Interface')\n",
        "print('a) After repalcing')\n",
        "print(smt)\n",
        "\n",
        "print('b)')\n",
        "print(\"So lan xuat hien tu 'up':\", smt.count('up'))\n",
        "\n",
        "print('c)')\n",
        "\n"
      ],
      "metadata": {
        "colab": {
          "base_uri": "https://localhost:8080/"
        },
        "id": "sPlyR92C5vvx",
        "outputId": "45ba8e73-b9ee-4ac9-862a-fa3763868c6e"
      },
      "execution_count": null,
      "outputs": [
        {
          "output_type": "stream",
          "name": "stdout",
          "text": [
            "Bai 20:\n",
            "a) After repalcing\n",
            "Interface ethernet0 is up\n",
            "Interface ethernet1 is down\n",
            "Interface serial0 is down\n",
            "Interface serial1 is up\n",
            "b)\n",
            "So lan xuat hien tu 'up': 2\n"
          ]
        }
      ]
    },
    {
      "cell_type": "markdown",
      "source": [
        "#Bài 21"
      ],
      "metadata": {
        "id": "ZH2P7OQPpk5C"
      }
    },
    {
      "cell_type": "code",
      "source": [
        "import numpy as np"
      ],
      "metadata": {
        "id": "MvRSe05FKvGo"
      },
      "execution_count": 1,
      "outputs": []
    },
    {
      "cell_type": "code",
      "source": [
        "\n",
        "print('Bai 21:')\n",
        "\n",
        "np_array_21 = np.arange(10)\n",
        "print('a)', np_array_21)\n",
        "np_array_21[np_array_21 % 2 != 0] = -1\n",
        "print('b)', np_array_21)"
      ],
      "metadata": {
        "colab": {
          "base_uri": "https://localhost:8080/"
        },
        "id": "B4SbQcNz94ZS",
        "outputId": "4515f010-4c2b-41cf-d1ff-d109722ca4bb"
      },
      "execution_count": null,
      "outputs": [
        {
          "output_type": "stream",
          "name": "stdout",
          "text": [
            "Bai 21:\n",
            "a) [0 1 2 3 4 5 6 7 8 9]\n",
            "b) [ 0 -1  2 -1  4 -1  6 -1  8 -1]\n"
          ]
        }
      ]
    },
    {
      "cell_type": "markdown",
      "source": [
        "#Bài 22"
      ],
      "metadata": {
        "id": "DYaVOy8jpnAT"
      }
    },
    {
      "cell_type": "code",
      "source": [
        "print('Bai 22:')\n",
        "A = np.ones((3,2),dtype = int)\n",
        "B = np.arange(1,7).reshape((3,2))\n",
        "np.random.shuffle(B)\n",
        "print('a)')\n",
        "print('Ma trận A\\n',A)\n",
        "print('Ma trận B\\n',B)\n",
        "print('\\n')\n",
        "print('b)')\n",
        "print('cộng\\n',A+B)\n",
        "\n",
        "print('trừ\\n', A-B)\n",
        "\n",
        "print('nhân\\n', A*B)\n",
        "\n",
        "print('chia\\n', A/B )\n",
        "print('\\n')\n",
        "\n",
        "B = B.transpose()\n",
        "sum = np.dot(A,B)\n",
        "print('c)\\nNhân ma trận chuyển vị\\n', sum)"
      ],
      "metadata": {
        "colab": {
          "base_uri": "https://localhost:8080/"
        },
        "id": "JGPh1Dhf_kya",
        "outputId": "b65d562a-99d9-416a-8c1b-7d7da12567ec"
      },
      "execution_count": null,
      "outputs": [
        {
          "output_type": "stream",
          "name": "stdout",
          "text": [
            "Bai 22:\n",
            "a)\n",
            "Ma trận A\n",
            " [[1 1]\n",
            " [1 1]\n",
            " [1 1]]\n",
            "Ma trận B\n",
            " [[3 4]\n",
            " [1 2]\n",
            " [5 6]]\n",
            "\n",
            "\n",
            "b)\n",
            "cộng\n",
            " [[4 5]\n",
            " [2 3]\n",
            " [6 7]]\n",
            "trừ\n",
            " [[-2 -3]\n",
            " [ 0 -1]\n",
            " [-4 -5]]\n",
            "nhân\n",
            " [[3 4]\n",
            " [1 2]\n",
            " [5 6]]\n",
            "chia\n",
            " [[0.33333333 0.25      ]\n",
            " [1.         0.5       ]\n",
            " [0.2        0.16666667]]\n",
            "\n",
            "\n",
            "c)\n",
            "Nhân ma trận chuyển vị\n",
            " [[ 7  3 11]\n",
            " [ 7  3 11]\n",
            " [ 7  3 11]]\n"
          ]
        }
      ]
    },
    {
      "cell_type": "markdown",
      "source": [
        "#Bài 23"
      ],
      "metadata": {
        "id": "ziXPWWYUpomw"
      }
    },
    {
      "cell_type": "code",
      "source": [
        "print('Bai 23:')\n",
        "mt23 = np.random.randint(30,size=(3,4))\n",
        "print('a)\\n', mt23)\n",
        "print('\\n')\n",
        "\n",
        "def Sum_row(numpy):\n",
        "    summed_list = [sum(i) for i in numpy]\n",
        "    print(summed_list)\n",
        "print('b)Tổng ma trận theo hàng\\n',np.sum(mt23, axis = 1))\n",
        "\n",
        "print('\\n')\n",
        "\n",
        "print('c)Tổng ma trận theo cột\\n',np.sum(mt23, axis=0))\n",
        "print('\\n')\n",
        "print('d)\\n',mt23[:2,2:])\n"
      ],
      "metadata": {
        "colab": {
          "base_uri": "https://localhost:8080/"
        },
        "id": "O5-rynatGR53",
        "outputId": "9fabb1e7-9e77-439e-ab74-48ed1a68bffc"
      },
      "execution_count": null,
      "outputs": [
        {
          "output_type": "stream",
          "name": "stdout",
          "text": [
            "Bai 23:\n",
            "a)\n",
            " [[10 25 18 21]\n",
            " [14 27 27 29]\n",
            " [26  9 28 19]]\n",
            "\n",
            "\n",
            "b)Tổng ma trận theo hàng\n",
            " [74 97 82]\n",
            "\n",
            "\n",
            "c)Tổng ma trận theo cột\n",
            " [50 61 73 69]\n",
            "\n",
            "\n",
            "d)\n",
            " [[18 21]\n",
            " [27 29]]\n"
          ]
        }
      ]
    },
    {
      "cell_type": "markdown",
      "source": [
        "#Bài 24"
      ],
      "metadata": {
        "id": "m9_F8CR2pp80"
      }
    },
    {
      "cell_type": "code",
      "source": [
        "print('Bai 24:')\n",
        "mt24 = np.arange(10)\n",
        "mt24 = mt24.reshape((5,2))\n",
        "print('a)After reshape: \\n',mt24)\n",
        "print('\\n')\n",
        "print('b) Đảo ngược thứ tự các cột')\n",
        "x = np.flip(mt24,axis = 1)\n",
        "print(x)"
      ],
      "metadata": {
        "colab": {
          "base_uri": "https://localhost:8080/"
        },
        "id": "8hwLMg1pZiij",
        "outputId": "34ed13c5-3014-4a9a-b431-61df104c11bc"
      },
      "execution_count": null,
      "outputs": [
        {
          "output_type": "stream",
          "name": "stdout",
          "text": [
            "Bai 24:\n",
            "a)After reshape: \n",
            " [[0 1]\n",
            " [2 3]\n",
            " [4 5]\n",
            " [6 7]\n",
            " [8 9]]\n",
            "\n",
            "\n",
            "b) Đảo ngược thứ tự các cột\n",
            "[[1 0]\n",
            " [3 2]\n",
            " [5 4]\n",
            " [7 6]\n",
            " [9 8]]\n"
          ]
        }
      ]
    },
    {
      "cell_type": "markdown",
      "source": [
        "#Bài 25"
      ],
      "metadata": {
        "id": "_Goe_MWEprcw"
      }
    },
    {
      "cell_type": "code",
      "source": [
        "print('Bai 25')\n",
        "dataset = np.array([\n",
        "['Quần thun',10,50000],\n",
        "['Áo gió',50,90000],\n",
        "['Tất',50,8000],\n",
        "['Giày',1,200000],\n",
        "['Mũ',1,30000],\n",
        "['Quần jeans',3,100000],\n",
        "['Áo len',10,10000]\n",
        "])\n",
        "total = 0\n",
        "\n",
        "for i in range(len(dataset)):\n",
        "  total += int(dataset[i][1])\n",
        "print('a) Tổng số sản phẩm:',total)\n",
        "print('\\n')\n",
        "print('b) Các sản phẩm có giá lớn hơn 50000:')\n",
        "for i in range(len(dataset)):\n",
        "  if int(dataset[i][2]) > 50000:\n",
        "    print(dataset[i][0])\n",
        "print('\\n')\n",
        "print('c) Các sản phẩm đã có doanh thu lớn hơn 300000:')\n",
        "for i in range(len(dataset)):\n",
        "  doanh_thu = int(dataset[i][1]) * int(dataset[i][2])\n",
        "  if doanh_thu > 300000:\n",
        "    print(dataset[i][0])\n",
        "  i += 1\n",
        "\n",
        "\n",
        "  "
      ],
      "metadata": {
        "id": "cdcRAoQu-r17",
        "colab": {
          "base_uri": "https://localhost:8080/"
        },
        "outputId": "a6adf444-798d-4267-dd98-8e9266dfcdf0"
      },
      "execution_count": null,
      "outputs": [
        {
          "output_type": "stream",
          "name": "stdout",
          "text": [
            "Bai 25\n",
            "a) Tổng số sản phẩm: 125\n",
            "\n",
            "\n",
            "b) Các sản phẩm có giá lớn hơn 50000:\n",
            "Áo gió\n",
            "Giày\n",
            "Quần jeans\n",
            "\n",
            "\n",
            "c) Các sản phẩm đã có doanh thu lớn hơn 300000:\n",
            "Quần thun\n",
            "Áo gió\n",
            "Tất\n"
          ]
        }
      ]
    },
    {
      "cell_type": "markdown",
      "source": [
        "#Bài 26"
      ],
      "metadata": {
        "id": "ZtLjdBF8oVr_"
      }
    },
    {
      "cell_type": "code",
      "source": [
        "import matplotlib.pyplot as plt"
      ],
      "metadata": {
        "id": "zgjk68yqpqIW"
      },
      "execution_count": 2,
      "outputs": []
    },
    {
      "cell_type": "code",
      "source": [
        "month = ['1','2','3','4','5','6','7','8','9','10','11','12']\n",
        "profit = [25,10,7,15,20,13,7,9,12,15,8,9] \n",
        "plt.plot(month, profit)\n",
        "plt.title('Lợi nhuận hàng tháng')\n",
        "plt.xlabel('Tháng')\n",
        "plt.ylabel('Lợi nhuận')\n",
        "plt.show()"
      ],
      "metadata": {
        "colab": {
          "base_uri": "https://localhost:8080/",
          "height": 296
        },
        "id": "LotOh27toDxM",
        "outputId": "7f7b4b9f-8633-4e31-f0a3-8ed08b84abfa"
      },
      "execution_count": null,
      "outputs": [
        {
          "output_type": "display_data",
          "data": {
            "text/plain": [
              "<Figure size 432x288 with 1 Axes>"
            ],
            "image/png": "[encoded data removed]"
          },
          "metadata": {
            "needs_background": "light"
          }
        }
      ]
    },
    {
      "cell_type": "markdown",
      "source": [
        "#Bài 27"
      ],
      "metadata": {
        "id": "bmDDQLibtAGx"
      }
    },
    {
      "cell_type": "code",
      "source": [
        "print('a)')\n",
        "\n",
        "loi_nhuan_A = np.random.rand(12,1)\n",
        "loi_nhuan_B = np.random.rand(12,1)\n",
        "plt.plot(month, loi_nhuan_A, label = \"Công ty A\")\n",
        "plt.plot(month, loi_nhuan_B, label= \"Công ty B\")\n",
        "plt.legend()\n",
        "plt.show()\n",
        "\n",
        "print('b')\n",
        "loi_nhuan_C = np.random.rand(12,1)\n",
        "loi_nhuan_D = np.random.rand(12,1)\n",
        "fig, ax = plt.subplots(2,2,figsize = (15,8))\n",
        "fig.suptitle('Lợi nhuận hàng tháng của 4 công ty')\n",
        "ax[0,0].plot(month, loi_nhuan_A)\n",
        "ax[0,0].set_title('Công ty A')\n",
        "ax[0,1].plot(month, loi_nhuan_B)\n",
        "ax[0,0].set_title('Công ty B')\n",
        "ax[1,0].plot(month, loi_nhuan_C)\n",
        "ax[0,0].set_title('Công ty C')\n",
        "ax[1,1].plot(month, loi_nhuan_D)\n",
        "ax[0,0].set_title('Công ty D')\n",
        "\n"
      ],
      "metadata": {
        "colab": {
          "base_uri": "https://localhost:8080/",
          "height": 823
        },
        "id": "0RFJ6U4as9Kv",
        "outputId": "32c88b56-eeae-4897-a690-1122b25a8a1b"
      },
      "execution_count": null,
      "outputs": [
        {
          "output_type": "stream",
          "name": "stdout",
          "text": [
            "a)\n"
          ]
        },
        {
          "output_type": "display_data",
          "data": {
            "text/plain": [
              "<Figure size 432x288 with 1 Axes>"
            ],
            "image/png": "[encoded data removed]"
          },
          "metadata": {
            "needs_background": "light"
          }
        },
        {
          "output_type": "stream",
          "name": "stdout",
          "text": [
            "b\n"
          ]
        },
        {
          "output_type": "execute_result",
          "data": {
            "text/plain": [
              "Text(0.5, 1.0, 'Công ty D')"
            ]
          },
          "metadata": {},
          "execution_count": 89
        },
        {
          "output_type": "display_data",
          "data": {
            "text/plain": [
              "<Figure size 1080x576 with 4 Axes>"
            ],
            "image/png": "[encoded data removed]"
          },
          "metadata": {
            "needs_background": "light"
          }
        }
      ]
    },
    {
      "cell_type": "markdown",
      "source": [
        "#Bài 28:"
      ],
      "metadata": {
        "id": "fwLACaZex-in"
      }
    },
    {
      "cell_type": "code",
      "source": [
        "\n",
        "fig, axs = plt.subplots(2, 2, figsize = (15,8))\n",
        "axs[0, 0].plot(month, loi_nhuan_A)\n",
        "axs[0, 0].set_title('Công ty A')\n",
        "axs[0, 1].plot(month, loi_nhuan_B, 'tab:orange')\n",
        "axs[0, 1].set_title('Công ty B')\n",
        "axs[1, 0].plot(month, loi_nhuan_C, 'tab:green')\n",
        "axs[1, 0].set_title('Công ty C')\n",
        "axs[1, 1].plot(month, loi_nhuan_D, 'tab:red')\n",
        "axs[1, 1].set_title('Công ty D')"
      ],
      "metadata": {
        "colab": {
          "base_uri": "https://localhost:8080/",
          "height": 497
        },
        "id": "IrTIJgOgx9_T",
        "outputId": "c9a74b47-e4d3-4902-c4ee-d031afcfdacc"
      },
      "execution_count": null,
      "outputs": [
        {
          "output_type": "execute_result",
          "data": {
            "text/plain": [
              "Text(0.5, 1.0, 'Công ty D')"
            ]
          },
          "metadata": {},
          "execution_count": 161
        },
        {
          "output_type": "display_data",
          "data": {
            "text/plain": [
              "<Figure size 1080x576 with 4 Axes>"
            ],
            "image/png": "[encoded data removed]"
          },
          "metadata": {
            "needs_background": "light"
          }
        }
      ]
    },
    {
      "cell_type": "markdown",
      "source": [
        "#Bài 29"
      ],
      "metadata": {
        "id": "oLElbc4B4Yf7"
      }
    },
    {
      "cell_type": "code",
      "source": [
        "dict_29 = {'10-20':[10, 15], '20-30':[50, 75], '30-40':[40, 55], '40-50':[30, 25]} \n",
        "tung = list(dict_29.keys())\n",
        "hoanh = list(dict_29.values())\n",
        "print('a)')\n",
        "man = []\n",
        "woman = [] \n",
        "for i in range(len(hoanh)):\n",
        "  man.append(hoanh[i][0])\n",
        "  woman.append(hoanh[i][1])  \n",
        "barWidth = 0.2\n",
        "fig = plt.subplots(figsize =(15, 8))\n",
        "br1 = np.arange(len(man))\n",
        "br2 = [x + barWidth for x in br1]\n",
        "plt.bar(br1, man, color ='r', width = barWidth, label ='Man bicycle')\n",
        "plt.bar(br2, woman, color ='g', width = barWidth, label ='Woman bicycle')\n",
        "\n",
        "plt.xlabel('Theo độ tuổi',  fontsize = 15)\n",
        "plt.ylabel('Số lượng', fontsize = 15)\n",
        "plt.xticks([r + 0.1 for r in range(len(man))],tung)\n",
        "plt.title('Số xe đạp nam nữ theo độ tuổi',fontweight ='bold',fontsize = 20)\n",
        "plt.legend(fontsize = 15)\n",
        "plt.show()\n",
        "\n",
        "  "
      ],
      "metadata": {
        "colab": {
          "base_uri": "https://localhost:8080/",
          "height": 513
        },
        "id": "VyndKHoq3r9S",
        "outputId": "e25b56bb-f6d0-4c28-9a89-ae33d7223d03"
      },
      "execution_count": null,
      "outputs": [
        {
          "output_type": "stream",
          "name": "stdout",
          "text": [
            "a)\n"
          ]
        },
        {
          "output_type": "display_data",
          "data": {
            "text/plain": [
              "<Figure size 1080x576 with 1 Axes>"
            ],
            "image/png": "[encoded data removed]"
          },
          "metadata": {
            "needs_background": "light"
          }
        }
      ]
    },
    {
      "cell_type": "code",
      "source": [
        "print('b)')\n",
        "fig = plt.subplots(figsize =(15, 8))\n",
        "plt.bar(tung, man, color='r',width = 0.5,label ='Man bicycle')\n",
        "plt.bar(tung, woman, bottom=man, color='g',width = 0.5,label ='Woman bicycle')\n",
        "plt.xlabel('Theo độ tuổi',  fontsize = 15)\n",
        "plt.ylabel('Số lượng', fontsize = 15)\n",
        "plt.legend(fontsize = 15)\n",
        "plt.title('Số xe đạp nam nữ theo độ tuổi',fontweight ='bold',fontsize = 20)\n",
        "plt.show()"
      ],
      "metadata": {
        "colab": {
          "base_uri": "https://localhost:8080/",
          "height": 510
        },
        "id": "x8-0pB8nHk5D",
        "outputId": "cdcd2370-af81-4548-e2a6-0f93b4892928"
      },
      "execution_count": null,
      "outputs": [
        {
          "output_type": "stream",
          "name": "stdout",
          "text": [
            "b)\n"
          ]
        },
        {
          "output_type": "display_data",
          "data": {
            "text/plain": [
              "<Figure size 1080x576 with 1 Axes>"
            ],
            "image/png": "[encoded data removed]"
          },
          "metadata": {
            "needs_background": "light"
          }
        }
      ]
    },
    {
      "cell_type": "markdown",
      "source": [
        "#Bài 30"
      ],
      "metadata": {
        "id": "Y0KIDi4rJrb4"
      }
    },
    {
      "cell_type": "code",
      "source": [
        "dict_30 = {'car': 0.2, 'bus': 0.5, 'bike': 0.2,'motorbike': 0.1}\n",
        "trans = list(dict_30.keys())\n",
        "rate = list(dict_30.values())\n",
        "explode = (0, 0.1, 0, 0)\n",
        "fig = plt.figure(figsize =(15, 8))\n",
        "fig1, ax1 = plt.subplots()\n",
        "ax1.pie(rate, explode=explode, labels=trans, autopct='%1.1f%%', startangle=90)\n",
        "ax1.axis('equal')  # Equal aspect ratio ensures that pie is drawn as a circle.\n",
        "plt.title('Tỉ lệ sử dụng phương tiện giao thông',fontsize = 17)\n",
        "plt.show()"
      ],
      "metadata": {
        "colab": {
          "base_uri": "https://localhost:8080/",
          "height": 286
        },
        "id": "7R-cy8xcJtpJ",
        "outputId": "b40d3f56-de3b-417f-ed02-9b6586cf9b18"
      },
      "execution_count": null,
      "outputs": [
        {
          "output_type": "display_data",
          "data": {
            "text/plain": [
              "<Figure size 1080x576 with 0 Axes>"
            ]
          },
          "metadata": {}
        },
        {
          "output_type": "display_data",
          "data": {
            "text/plain": [
              "<Figure size 432x288 with 1 Axes>"
            ],
            "image/png": "[encoded data removed]"
          },
          "metadata": {}
        }
      ]
    },
    {
      "cell_type": "markdown",
      "source": [
        "#Bài 31"
      ],
      "metadata": {
        "id": "bbxuDuhzM4Re"
      }
    },
    {
      "cell_type": "code",
      "source": [
        "random = np.random.randint(11,size=(45,1))\n",
        "scores = []\n",
        "for i in random:\n",
        "  scores.append(int(random[i]))\n",
        "fig = plt.figure(figsize =(15, 8))\n",
        "plt.hist(scores, bins=10)\n",
        "plt.xlabel('Điểm số',  fontsize = 15)\n",
        "plt.ylabel('Số lượng', fontsize = 15)\n",
        "plt.title('Điểm thi của sinh viên',fontweight ='bold',fontsize = 20)\n",
        "plt.show()\n",
        "\n"
      ],
      "metadata": {
        "colab": {
          "base_uri": "https://localhost:8080/",
          "height": 523
        },
        "id": "W-SL3Sf3Pw_C",
        "outputId": "b742dafd-3357-479e-8485-e9f4830ba588"
      },
      "execution_count": 3,
      "outputs": [
        {
          "output_type": "display_data",
          "data": {
            "text/plain": [
              "<Figure size 1080x576 with 1 Axes>"
            ],
            "image/png": "[encoded data removed]"
          },
          "metadata": {
            "needs_background": "light"
          }
        }
      ]
    },
    {
      "cell_type": "markdown",
      "source": [
        "#Bài 32"
      ],
      "metadata": {
        "id": "rzxIV1__RNcE"
      }
    },
    {
      "cell_type": "code",
      "source": [
        "fig = plt.figure(figsize =(15, 8))\n",
        "plt.boxplot(scores)\n",
        "plt.title('Điểm thi của sinh viên',fontweight ='bold',fontsize = 20)\n",
        "plt.show()"
      ],
      "metadata": {
        "colab": {
          "base_uri": "https://localhost:8080/",
          "height": 486
        },
        "id": "7g6za-WcRO37",
        "outputId": "5404ef49-a2a2-4ae8-a3a5-5821d4876f53"
      },
      "execution_count": null,
      "outputs": [
        {
          "output_type": "display_data",
          "data": {
            "text/plain": [
              "<Figure size 1080x576 with 1 Axes>"
            ],
            "image/png": "[encoded data removed]"
          },
          "metadata": {
            "needs_background": "light"
          }
        }
      ]
    }
  ]
}